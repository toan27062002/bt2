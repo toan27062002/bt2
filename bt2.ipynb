{
  "nbformat": 4,
  "nbformat_minor": 0,
  "metadata": {
    "colab": {
      "name": "bt2.ipynb",
      "provenance": [],
      "authorship_tag": "ABX9TyOabnVLUBFR4RFjnMgDAX5w",
      "include_colab_link": true
    },
    "kernelspec": {
      "name": "python3",
      "display_name": "Python 3"
    }
  },
  "cells": [
    {
      "cell_type": "markdown",
      "metadata": {
        "id": "view-in-github",
        "colab_type": "text"
      },
      "source": [
        "<a href=\"https://colab.research.google.com/github/toan27062002/bt2/blob/main/bt2.ipynb\" target=\"_parent\"><img src=\"https://colab.research.google.com/assets/colab-badge.svg\" alt=\"Open In Colab\"/></a>"
      ]
    },
    {
      "cell_type": "markdown",
      "metadata": {
        "id": "f8jFX739ocLO"
      },
      "source": [
        "Bài 1"
      ]
    },
    {
      "cell_type": "code",
      "metadata": {
        "id": "HlJekVpFn9C4"
      },
      "source": [
        "a = int(input(\"a = \"))\n"
      ],
      "execution_count": null,
      "outputs": []
    },
    {
      "cell_type": "code",
      "metadata": {
        "id": "6ksypzvOn_KI"
      },
      "source": [
        "b = int(input(\"b = \"))\n"
      ],
      "execution_count": null,
      "outputs": []
    },
    {
      "cell_type": "code",
      "metadata": {
        "id": "92E50ApfoDVe"
      },
      "source": [
        "print(\"a + b = \",a + b)\n"
      ],
      "execution_count": null,
      "outputs": []
    },
    {
      "cell_type": "code",
      "metadata": {
        "id": "ex16sIa6oFVP"
      },
      "source": [
        "print(\"a - b = \",a - b)\n"
      ],
      "execution_count": null,
      "outputs": []
    },
    {
      "cell_type": "code",
      "metadata": {
        "id": "hwcpwsNZoH6G"
      },
      "source": [
        "print(\"a / b = \",a // b,\" ,du : \",a % b)\n"
      ],
      "execution_count": null,
      "outputs": []
    },
    {
      "cell_type": "markdown",
      "metadata": {
        "id": "A_8jiHuLo8YN"
      },
      "source": [
        "Bài 2"
      ]
    },
    {
      "cell_type": "code",
      "metadata": {
        "id": "wT_9iWRWpHZT"
      },
      "source": [
        "x = float(input(\"x = \"))\n"
      ],
      "execution_count": null,
      "outputs": []
    },
    {
      "cell_type": "code",
      "metadata": {
        "id": "XH-Vrh4XpIwr"
      },
      "source": [
        "y = float(input(\"y = \"))\n"
      ],
      "execution_count": null,
      "outputs": []
    },
    {
      "cell_type": "code",
      "metadata": {
        "id": "k3YK-J5WpKID"
      },
      "source": [
        "print(\"x + y = \",x + y)\n"
      ],
      "execution_count": null,
      "outputs": []
    },
    {
      "cell_type": "code",
      "metadata": {
        "id": "-GznxVa_pMac"
      },
      "source": [
        "print(\"x - y = \",x - y)\n"
      ],
      "execution_count": null,
      "outputs": []
    },
    {
      "cell_type": "code",
      "metadata": {
        "id": "zYIJnNVIpNys"
      },
      "source": [
        "print(\" x * y = \",x * y)\n"
      ],
      "execution_count": null,
      "outputs": []
    },
    {
      "cell_type": "code",
      "metadata": {
        "id": "GSQamlhnpPms"
      },
      "source": [
        "print(\"x / y = \",x / y)\n"
      ],
      "execution_count": null,
      "outputs": []
    },
    {
      "cell_type": "markdown",
      "metadata": {
        "id": "uP2lI5vSpf67"
      },
      "source": [
        "Bài 3"
      ]
    },
    {
      "cell_type": "code",
      "metadata": {
        "id": "KBBnxxNqpjd4"
      },
      "source": [
        "m = float(input(\"m = \"))\n"
      ],
      "execution_count": null,
      "outputs": []
    },
    {
      "cell_type": "code",
      "metadata": {
        "id": "rapRqBs3ppBr"
      },
      "source": [
        "import math\n"
      ],
      "execution_count": 27,
      "outputs": []
    },
    {
      "cell_type": "code",
      "metadata": {
        "id": "6JORbClJpqqr"
      },
      "source": [
        "print(\"|m| = \",abs(m))"
      ],
      "execution_count": null,
      "outputs": []
    },
    {
      "cell_type": "code",
      "metadata": {
        "id": "WqdZ4T6yptC6"
      },
      "source": [
        "print(\"phan nguyen cua so m la: \",math.trunc(m))\n"
      ],
      "execution_count": null,
      "outputs": []
    },
    {
      "cell_type": "code",
      "metadata": {
        "id": "3-OjcsW3pwLK"
      },
      "source": [
        "n = float(input(\"n = \"))\n"
      ],
      "execution_count": null,
      "outputs": []
    },
    {
      "cell_type": "code",
      "metadata": {
        "id": "opXlTDadpxbK"
      },
      "source": [
        "print(\" m^n = \",m**n)\n"
      ],
      "execution_count": null,
      "outputs": []
    },
    {
      "cell_type": "code",
      "metadata": {
        "id": "o_Kh50vTpy1c"
      },
      "source": [
        "print(\"can bat 2 cua |m| la: \",math.sqrt(abs(m)))\n"
      ],
      "execution_count": null,
      "outputs": []
    },
    {
      "cell_type": "markdown",
      "metadata": {
        "id": "VplNcynK0qNe"
      },
      "source": [
        "Bài 4:  2 số nhập vào bàn phím là m & n được lấy từ bài 3"
      ]
    },
    {
      "cell_type": "code",
      "metadata": {
        "id": "qdjrzWWE07fR"
      },
      "source": [
        "if m > n :\n",
        "  print(\"m > n\")"
      ],
      "execution_count": 33,
      "outputs": []
    },
    {
      "cell_type": "code",
      "metadata": {
        "id": "Dp6GhowP1cGy"
      },
      "source": [
        "if m < n :\n",
        "  print(\"m < n\")"
      ],
      "execution_count": null,
      "outputs": []
    },
    {
      "cell_type": "code",
      "metadata": {
        "id": "GMgnLIpH1nEm"
      },
      "source": [
        "if m == n :\n",
        "  print(\" m = n \")"
      ],
      "execution_count": 35,
      "outputs": []
    },
    {
      "cell_type": "markdown",
      "metadata": {
        "id": "nsMWaEQBqODJ"
      },
      "source": [
        "Bài 5"
      ]
    },
    {
      "cell_type": "code",
      "metadata": {
        "id": "AksjCQT6qQba"
      },
      "source": [
        "string= input(\"chuoi ki tu: \")\n"
      ],
      "execution_count": null,
      "outputs": []
    },
    {
      "cell_type": "code",
      "metadata": {
        "id": "BwQ6zxgGq0mx"
      },
      "source": [
        "print(\"chuoi in hoa: \",string.upper())\n"
      ],
      "execution_count": null,
      "outputs": []
    },
    {
      "cell_type": "code",
      "metadata": {
        "id": "jOWHk9iOq2Nw"
      },
      "source": [
        "print(\"chuoi in thuong: \",string.lower())\n"
      ],
      "execution_count": null,
      "outputs": []
    },
    {
      "cell_type": "markdown",
      "metadata": {
        "id": "xBtnDvOzrCJ1"
      },
      "source": [
        "Bài 6"
      ]
    },
    {
      "cell_type": "code",
      "metadata": {
        "id": "8Uy_NDrT8MSS"
      },
      "source": [
        "tho = \"\"\"Trăm năm trong cõi người ta,\n",
        "\n",
        "Chữ tài chữ mệnh khéo là ghét nhau.\n",
        "\n",
        "Trải qua một cuộc bể dâu,\n",
        "\n",
        "Những điều trông thấy mà đau đớn lòng.\"\"\""
      ],
      "execution_count": 24,
      "outputs": []
    },
    {
      "cell_type": "code",
      "metadata": {
        "id": "AwT_c4RV8kl2"
      },
      "source": [
        "print(tho)"
      ],
      "execution_count": null,
      "outputs": []
    }
  ]
}